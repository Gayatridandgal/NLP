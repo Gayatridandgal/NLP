{
 "cells": [
  {
   "cell_type": "code",
   "execution_count": 5,
   "id": "f321b5c2",
   "metadata": {},
   "outputs": [],
   "source": [
    "import time\n",
    "import pandas as pd\n",
    "from youtube_comment_downloader import YoutubeCommentDownloader\n",
    "\n",
    "#youtube video:I Got Rich When I Understood This\" | Jeff Bezos\n",
    "url = \"https://www.youtube.com/watch?v=7TWKKww-F30\"\n",
    "file = \"comment.csv\"\n",
    "\n",
    "downloader = YoutubeCommentDownloader()\n",
    "\n",
    "fullcmt = []\n",
    "comment_count = 0\n",
    "max_comments = 100  #max 100 cmts\n",
    "\n",
    "for comment in downloader.get_comments_from_url(url, language='en', sort_by=0): #sort by=0 for top cmts\n",
    "    fullcmt.append(comment['text']) \n",
    "    comment_count += 1\n",
    "    if comment_count >= max_comments:\n",
    "        break  \n",
    "\n",
    "df = pd.DataFrame(fullcmt, columns=['Comment'])\n",
    "\n",
    "\n",
    "time.sleep(5)\n",
    "df.to_csv(file, index=False)\n"
   ]
  },
  {
   "cell_type": "code",
   "execution_count": 6,
   "id": "4a757044",
   "metadata": {},
   "outputs": [
    {
     "data": {
      "text/html": [
       "<div>\n",
       "<style scoped>\n",
       "    .dataframe tbody tr th:only-of-type {\n",
       "        vertical-align: middle;\n",
       "    }\n",
       "\n",
       "    .dataframe tbody tr th {\n",
       "        vertical-align: top;\n",
       "    }\n",
       "\n",
       "    .dataframe thead th {\n",
       "        text-align: right;\n",
       "    }\n",
       "</style>\n",
       "<table border=\"1\" class=\"dataframe\">\n",
       "  <thead>\n",
       "    <tr style=\"text-align: right;\">\n",
       "      <th></th>\n",
       "      <th>Comment</th>\n",
       "    </tr>\n",
       "  </thead>\n",
       "  <tbody>\n",
       "    <tr>\n",
       "      <th>0</th>\n",
       "      <td>I got rich when I realized that no one is comi...</td>\n",
       "    </tr>\n",
       "    <tr>\n",
       "      <th>1</th>\n",
       "      <td>I'm favoured, $500K every week! I can now give...</td>\n",
       "    </tr>\n",
       "    <tr>\n",
       "      <th>2</th>\n",
       "      <td>I recommend everyone to find the forbidden boo...</td>\n",
       "    </tr>\n",
       "    <tr>\n",
       "      <th>3</th>\n",
       "      <td>My wife and I sold our house in Florida to mov...</td>\n",
       "    </tr>\n",
       "    <tr>\n",
       "      <th>4</th>\n",
       "      <td>Creating wealth entails establishing positive ...</td>\n",
       "    </tr>\n",
       "  </tbody>\n",
       "</table>\n",
       "</div>"
      ],
      "text/plain": [
       "                                             Comment\n",
       "0  I got rich when I realized that no one is comi...\n",
       "1  I'm favoured, $500K every week! I can now give...\n",
       "2  I recommend everyone to find the forbidden boo...\n",
       "3  My wife and I sold our house in Florida to mov...\n",
       "4  Creating wealth entails establishing positive ..."
      ]
     },
     "execution_count": 6,
     "metadata": {},
     "output_type": "execute_result"
    }
   ],
   "source": [
    "df=pd.read_csv(r\"comment.csv\")\n",
    "df.head(5)"
   ]
  },
  {
   "cell_type": "code",
   "execution_count": 7,
   "id": "ba4cbe48",
   "metadata": {},
   "outputs": [
    {
     "data": {
      "text/plain": [
       "(100, 1)"
      ]
     },
     "execution_count": 7,
     "metadata": {},
     "output_type": "execute_result"
    }
   ],
   "source": [
    "df.shape"
   ]
  },
  {
   "cell_type": "code",
   "execution_count": 8,
   "id": "6d92715a",
   "metadata": {},
   "outputs": [
    {
     "data": {
      "text/plain": [
       "Comment    0\n",
       "dtype: int64"
      ]
     },
     "execution_count": 8,
     "metadata": {},
     "output_type": "execute_result"
    }
   ],
   "source": [
    "df.isnull().sum()"
   ]
  },
  {
   "cell_type": "markdown",
   "id": "c7f0c260",
   "metadata": {},
   "source": [
    "We dont have any null values"
   ]
  },
  {
   "cell_type": "code",
   "execution_count": 9,
   "id": "d9cdcea2",
   "metadata": {},
   "outputs": [],
   "source": [
    "import re\n",
    "import string\n",
    "import pickle\n",
    "from sklearn.feature_extraction.text import TfidfVectorizer\n",
    "from nltk.corpus import stopwords\n",
    "import nltk"
   ]
  },
  {
   "cell_type": "code",
   "execution_count": 10,
   "id": "be3c6a14",
   "metadata": {},
   "outputs": [],
   "source": [
    "#stopword set\n",
    "stop_words = set(stopwords.words('english'))"
   ]
  },
  {
   "cell_type": "code",
   "execution_count": 13,
   "id": "4e9a1980",
   "metadata": {},
   "outputs": [],
   "source": [
    "#PREPROCESSING\n",
    "def pre(text):\n",
    "    text=text.lower()\n",
    "    text=re.sub(r'http\\S+','',text) #for url remove\n",
    "    text=text.translate(str.maketrans('','',string.punctuation)) #removing punctuation\n",
    "    text=re.sub(r'[^a-zA-Z\\s]','',text) #non alphabetic\n",
    "    text=' '.join([word for word in text.split() if word not in stop_words]) #stop word\n",
    "    return text\n",
    "\n"
   ]
  },
  {
   "cell_type": "code",
   "execution_count": 16,
   "id": "b39c6df8",
   "metadata": {},
   "outputs": [],
   "source": [
    "df['Preprocessed_Comment']=df['Comment'].apply(pre)\n",
    "    "
   ]
  },
  {
   "cell_type": "code",
   "execution_count": 17,
   "id": "7e05a85a",
   "metadata": {},
   "outputs": [
    {
     "name": "stdout",
     "output_type": "stream",
     "text": [
      "TF-IDF vectors have been saved to tfidf_vectors.pkl\n"
     ]
    }
   ],
   "source": [
    "vectorizer = TfidfVectorizer(max_features=1000) \n",
    "tfidf_matrix = vectorizer.fit_transform(df['Preprocessed_Comment'])\n",
    "with open('tfidf_vectors.pkl', 'wb') as file:\n",
    "    pickle.dump(tfidf_matrix, file)\n",
    "\n",
    "print(\"TF-IDF vectorssaved to tfidf_vectors.pkl\")"
   ]
  },
  {
   "cell_type": "code",
   "execution_count": 19,
   "id": "e483f2a7",
   "metadata": {},
   "outputs": [
    {
     "name": "stdout",
     "output_type": "stream",
     "text": [
      "  (0, 330)\t0.20906411572453568\n",
      "  (0, 447)\t0.18541856878278504\n",
      "  (0, 435)\t0.20906411572453568\n",
      "  (0, 331)\t0.1698436451778028\n",
      "  (0, 542)\t0.20906411572453568\n",
      "  (0, 223)\t0.2278326422059042\n",
      "  (0, 254)\t0.2278326422059042\n",
      "  (0, 143)\t0.2278326422059042\n",
      "  (0, 567)\t0.2278326422059042\n",
      "  (0, 104)\t0.17697910778260736\n",
      "  (0, 286)\t0.20906411572453568\n",
      "  (0, 492)\t0.19574763426397593\n",
      "  (0, 247)\t0.2278326422059042\n",
      "  (0, 376)\t0.2278326422059042\n",
      "  (0, 458)\t0.20906411572453568\n",
      "  (0, 462)\t0.2278326422059042\n",
      "  (0, 291)\t0.16366262632204762\n",
      "  (0, 516)\t0.19574763426397593\n",
      "  (0, 445)\t0.20906411572453568\n",
      "  (0, 93)\t0.20906411572453568\n",
      "  (0, 357)\t0.17697910778260736\n",
      "  (0, 414)\t0.20906411572453568\n",
      "  (0, 437)\t0.1698436451778028\n",
      "  (0, 214)\t0.1698436451778028\n",
      "  (1, 27)\t0.2681529190669959\n",
      "  :\t:\n",
      "  (96, 273)\t0.33516080719050056\n",
      "  (96, 461)\t0.33516080719050056\n",
      "  (96, 506)\t0.33516080719050056\n",
      "  (96, 249)\t0.33516080719050056\n",
      "  (96, 66)\t0.27276616985015645\n",
      "  (96, 570)\t0.3075507403257765\n",
      "  (96, 395)\t0.3075507403257765\n",
      "  (96, 310)\t0.2498541590125761\n",
      "  (97, 421)\t0.29219364869457\n",
      "  (97, 90)\t0.29219364869457\n",
      "  (97, 323)\t0.29219364869457\n",
      "  (97, 540)\t0.29219364869457\n",
      "  (97, 145)\t0.29219364869457\n",
      "  (97, 535)\t0.26812315475606086\n",
      "  (97, 449)\t0.26812315475606086\n",
      "  (97, 480)\t0.26812315475606086\n",
      "  (97, 553)\t0.26812315475606086\n",
      "  (97, 15)\t0.26812315475606086\n",
      "  (97, 561)\t0.26812315475606086\n",
      "  (97, 334)\t0.20290387964126372\n",
      "  (97, 447)\t0.23779791878726256\n",
      "  (97, 291)\t0.20989608634199386\n",
      "  (98, 167)\t1.0\n",
      "  (99, 476)\t0.7417730778583026\n",
      "  (99, 239)\t0.6706509531526967\n"
     ]
    }
   ],
   "source": [
    "with open('tfidf_vectors.pkl', 'rb') as file:\n",
    "    tfidf_matrix = pickle.load(file)\n",
    "print(tfidf_matrix)"
   ]
  },
  {
   "cell_type": "code",
   "execution_count": null,
   "id": "297c1bbc",
   "metadata": {},
   "outputs": [],
   "source": []
  }
 ],
 "metadata": {
  "kernelspec": {
   "display_name": "Python 3 (ipykernel)",
   "language": "python",
   "name": "python3"
  },
  "language_info": {
   "codemirror_mode": {
    "name": "ipython",
    "version": 3
   },
   "file_extension": ".py",
   "mimetype": "text/x-python",
   "name": "python",
   "nbconvert_exporter": "python",
   "pygments_lexer": "ipython3",
   "version": "3.11.5"
  }
 },
 "nbformat": 4,
 "nbformat_minor": 5
}
